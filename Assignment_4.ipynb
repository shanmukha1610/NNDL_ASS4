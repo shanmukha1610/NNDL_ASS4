{
 "cells": [
  {
   "cell_type": "code",
   "execution_count": 1,
   "id": "e5619097",
   "metadata": {},
   "outputs": [
    {
     "name": "stdout",
     "output_type": "stream",
     "text": [
      "         Duration       Pulse    Maxpulse     Calories\n",
      "count  169.000000  169.000000  169.000000   164.000000\n",
      "mean    63.846154  107.461538  134.047337   375.790244\n",
      "std     42.299949   14.510259   16.450434   266.379919\n",
      "min     15.000000   80.000000  100.000000    50.300000\n",
      "25%     45.000000  100.000000  124.000000   250.925000\n",
      "50%     60.000000  105.000000  131.000000   318.600000\n",
      "75%     60.000000  111.000000  141.000000   387.600000\n",
      "max    300.000000  159.000000  184.000000  1860.400000\n"
     ]
    }
   ],
   "source": [
    "#1.a) #Importing basic packages for creating arrays & plotting graph\n",
    "\n",
    "import pandas as pd\n",
    "import numpy as np\n",
    "import matplotlib.pyplot as plt\n",
    "\n",
    "#Loading the Data Set\n",
    "#b) Read the provided CSV file ‘data.csv’.\n",
    "df = pd.read_csv(\"data.csv\")\n",
    "\n",
    "#c) Show the basic statistical description about the data.\n",
    "print(df.describe()) "
   ]
  },
  {
   "cell_type": "code",
   "execution_count": 2,
   "id": "8e10f34b",
   "metadata": {},
   "outputs": [
    {
     "data": {
      "text/plain": [
       "Duration    0\n",
       "Pulse       0\n",
       "Maxpulse    0\n",
       "Calories    5\n",
       "dtype: int64"
      ]
     },
     "execution_count": 2,
     "metadata": {},
     "output_type": "execute_result"
    }
   ],
   "source": [
    "#d) Check if the data has null values.\n",
    "df.isna().sum()"
   ]
  },
  {
   "cell_type": "code",
   "execution_count": 3,
   "id": "bf95ec38",
   "metadata": {},
   "outputs": [
    {
     "name": "stdout",
     "output_type": "stream",
     "text": [
      "     Duration  Pulse  Maxpulse  Calories\n",
      "0          60    110       130     409.1\n",
      "1          60    117       145     479.0\n",
      "2          60    103       135     340.0\n",
      "3          45    109       175     282.4\n",
      "4          45    117       148     406.0\n",
      "..        ...    ...       ...       ...\n",
      "164        60    105       140     290.8\n",
      "165        60    110       145     300.0\n",
      "166        60    115       145     310.2\n",
      "167        75    120       150     320.4\n",
      "168        75    125       150     330.4\n",
      "\n",
      "[169 rows x 4 columns]\n"
     ]
    }
   ],
   "source": [
    "#d)i) Replacing Null values with the mean for Calories Column\n",
    "df[\"Calories\"].fillna(df[\"Calories\"].mean(),inplace=True)\n",
    "print(df)"
   ]
  },
  {
   "cell_type": "code",
   "execution_count": 4,
   "id": "c57dd44b",
   "metadata": {},
   "outputs": [
    {
     "data": {
      "text/plain": [
       "Duration    0\n",
       "Pulse       0\n",
       "Maxpulse    0\n",
       "Calories    0\n",
       "dtype: int64"
      ]
     },
     "execution_count": 4,
     "metadata": {},
     "output_type": "execute_result"
    }
   ],
   "source": [
    "#verifying any columns still with null values\n",
    "df.isna().sum()"
   ]
  },
  {
   "cell_type": "code",
   "execution_count": 5,
   "id": "0e36dc80",
   "metadata": {},
   "outputs": [
    {
     "data": {
      "text/html": [
       "<div>\n",
       "<style scoped>\n",
       "    .dataframe tbody tr th:only-of-type {\n",
       "        vertical-align: middle;\n",
       "    }\n",
       "\n",
       "    .dataframe tbody tr th {\n",
       "        vertical-align: top;\n",
       "    }\n",
       "\n",
       "    .dataframe thead tr th {\n",
       "        text-align: left;\n",
       "    }\n",
       "\n",
       "    .dataframe thead tr:last-of-type th {\n",
       "        text-align: right;\n",
       "    }\n",
       "</style>\n",
       "<table border=\"1\" class=\"dataframe\">\n",
       "  <thead>\n",
       "    <tr>\n",
       "      <th></th>\n",
       "      <th colspan=\"4\" halign=\"left\">Pulse</th>\n",
       "      <th colspan=\"4\" halign=\"left\">Maxpulse</th>\n",
       "      <th colspan=\"4\" halign=\"left\">Calories</th>\n",
       "    </tr>\n",
       "    <tr>\n",
       "      <th></th>\n",
       "      <th>min</th>\n",
       "      <th>max</th>\n",
       "      <th>count</th>\n",
       "      <th>mean</th>\n",
       "      <th>min</th>\n",
       "      <th>max</th>\n",
       "      <th>count</th>\n",
       "      <th>mean</th>\n",
       "      <th>min</th>\n",
       "      <th>max</th>\n",
       "      <th>count</th>\n",
       "      <th>mean</th>\n",
       "    </tr>\n",
       "    <tr>\n",
       "      <th>Duration</th>\n",
       "      <th></th>\n",
       "      <th></th>\n",
       "      <th></th>\n",
       "      <th></th>\n",
       "      <th></th>\n",
       "      <th></th>\n",
       "      <th></th>\n",
       "      <th></th>\n",
       "      <th></th>\n",
       "      <th></th>\n",
       "      <th></th>\n",
       "      <th></th>\n",
       "    </tr>\n",
       "  </thead>\n",
       "  <tbody>\n",
       "    <tr>\n",
       "      <th>15</th>\n",
       "      <td>80</td>\n",
       "      <td>124</td>\n",
       "      <td>2</td>\n",
       "      <td>102.000000</td>\n",
       "      <td>100</td>\n",
       "      <td>139</td>\n",
       "      <td>2</td>\n",
       "      <td>119.500000</td>\n",
       "      <td>50.5</td>\n",
       "      <td>124.2</td>\n",
       "      <td>2</td>\n",
       "      <td>87.350000</td>\n",
       "    </tr>\n",
       "    <tr>\n",
       "      <th>20</th>\n",
       "      <td>83</td>\n",
       "      <td>153</td>\n",
       "      <td>9</td>\n",
       "      <td>125.000000</td>\n",
       "      <td>107</td>\n",
       "      <td>172</td>\n",
       "      <td>9</td>\n",
       "      <td>146.000000</td>\n",
       "      <td>50.3</td>\n",
       "      <td>229.4</td>\n",
       "      <td>9</td>\n",
       "      <td>151.600000</td>\n",
       "    </tr>\n",
       "    <tr>\n",
       "      <th>25</th>\n",
       "      <td>152</td>\n",
       "      <td>152</td>\n",
       "      <td>1</td>\n",
       "      <td>152.000000</td>\n",
       "      <td>168</td>\n",
       "      <td>168</td>\n",
       "      <td>1</td>\n",
       "      <td>168.000000</td>\n",
       "      <td>244.2</td>\n",
       "      <td>244.2</td>\n",
       "      <td>1</td>\n",
       "      <td>244.200000</td>\n",
       "    </tr>\n",
       "    <tr>\n",
       "      <th>30</th>\n",
       "      <td>80</td>\n",
       "      <td>159</td>\n",
       "      <td>16</td>\n",
       "      <td>109.812500</td>\n",
       "      <td>107</td>\n",
       "      <td>182</td>\n",
       "      <td>16</td>\n",
       "      <td>137.000000</td>\n",
       "      <td>86.2</td>\n",
       "      <td>319.2</td>\n",
       "      <td>16</td>\n",
       "      <td>192.125000</td>\n",
       "    </tr>\n",
       "    <tr>\n",
       "      <th>45</th>\n",
       "      <td>90</td>\n",
       "      <td>149</td>\n",
       "      <td>35</td>\n",
       "      <td>107.485714</td>\n",
       "      <td>103</td>\n",
       "      <td>175</td>\n",
       "      <td>35</td>\n",
       "      <td>133.228571</td>\n",
       "      <td>100.7</td>\n",
       "      <td>406.0</td>\n",
       "      <td>35</td>\n",
       "      <td>279.096585</td>\n",
       "    </tr>\n",
       "    <tr>\n",
       "      <th>60</th>\n",
       "      <td>92</td>\n",
       "      <td>136</td>\n",
       "      <td>79</td>\n",
       "      <td>106.126582</td>\n",
       "      <td>101</td>\n",
       "      <td>170</td>\n",
       "      <td>79</td>\n",
       "      <td>132.860759</td>\n",
       "      <td>215.2</td>\n",
       "      <td>486.0</td>\n",
       "      <td>79</td>\n",
       "      <td>341.046465</td>\n",
       "    </tr>\n",
       "    <tr>\n",
       "      <th>75</th>\n",
       "      <td>120</td>\n",
       "      <td>125</td>\n",
       "      <td>2</td>\n",
       "      <td>122.500000</td>\n",
       "      <td>150</td>\n",
       "      <td>150</td>\n",
       "      <td>2</td>\n",
       "      <td>150.000000</td>\n",
       "      <td>320.4</td>\n",
       "      <td>330.4</td>\n",
       "      <td>2</td>\n",
       "      <td>325.400000</td>\n",
       "    </tr>\n",
       "    <tr>\n",
       "      <th>80</th>\n",
       "      <td>123</td>\n",
       "      <td>123</td>\n",
       "      <td>1</td>\n",
       "      <td>123.000000</td>\n",
       "      <td>146</td>\n",
       "      <td>146</td>\n",
       "      <td>1</td>\n",
       "      <td>146.000000</td>\n",
       "      <td>643.1</td>\n",
       "      <td>643.1</td>\n",
       "      <td>1</td>\n",
       "      <td>643.100000</td>\n",
       "    </tr>\n",
       "    <tr>\n",
       "      <th>90</th>\n",
       "      <td>90</td>\n",
       "      <td>100</td>\n",
       "      <td>8</td>\n",
       "      <td>93.750000</td>\n",
       "      <td>100</td>\n",
       "      <td>127</td>\n",
       "      <td>8</td>\n",
       "      <td>116.375000</td>\n",
       "      <td>466.4</td>\n",
       "      <td>700.0</td>\n",
       "      <td>8</td>\n",
       "      <td>541.800000</td>\n",
       "    </tr>\n",
       "    <tr>\n",
       "      <th>120</th>\n",
       "      <td>100</td>\n",
       "      <td>100</td>\n",
       "      <td>3</td>\n",
       "      <td>100.000000</td>\n",
       "      <td>130</td>\n",
       "      <td>157</td>\n",
       "      <td>3</td>\n",
       "      <td>139.000000</td>\n",
       "      <td>500.0</td>\n",
       "      <td>1000.1</td>\n",
       "      <td>3</td>\n",
       "      <td>666.833333</td>\n",
       "    </tr>\n",
       "    <tr>\n",
       "      <th>150</th>\n",
       "      <td>97</td>\n",
       "      <td>107</td>\n",
       "      <td>4</td>\n",
       "      <td>101.500000</td>\n",
       "      <td>127</td>\n",
       "      <td>135</td>\n",
       "      <td>4</td>\n",
       "      <td>130.250000</td>\n",
       "      <td>816.0</td>\n",
       "      <td>1115.0</td>\n",
       "      <td>4</td>\n",
       "      <td>939.400000</td>\n",
       "    </tr>\n",
       "    <tr>\n",
       "      <th>160</th>\n",
       "      <td>109</td>\n",
       "      <td>110</td>\n",
       "      <td>2</td>\n",
       "      <td>109.500000</td>\n",
       "      <td>135</td>\n",
       "      <td>137</td>\n",
       "      <td>2</td>\n",
       "      <td>136.000000</td>\n",
       "      <td>853.0</td>\n",
       "      <td>1034.4</td>\n",
       "      <td>2</td>\n",
       "      <td>943.700000</td>\n",
       "    </tr>\n",
       "    <tr>\n",
       "      <th>180</th>\n",
       "      <td>90</td>\n",
       "      <td>101</td>\n",
       "      <td>3</td>\n",
       "      <td>93.666667</td>\n",
       "      <td>120</td>\n",
       "      <td>130</td>\n",
       "      <td>3</td>\n",
       "      <td>125.666667</td>\n",
       "      <td>600.1</td>\n",
       "      <td>800.4</td>\n",
       "      <td>3</td>\n",
       "      <td>733.600000</td>\n",
       "    </tr>\n",
       "    <tr>\n",
       "      <th>210</th>\n",
       "      <td>108</td>\n",
       "      <td>137</td>\n",
       "      <td>2</td>\n",
       "      <td>122.500000</td>\n",
       "      <td>160</td>\n",
       "      <td>184</td>\n",
       "      <td>2</td>\n",
       "      <td>172.000000</td>\n",
       "      <td>1376.0</td>\n",
       "      <td>1860.4</td>\n",
       "      <td>2</td>\n",
       "      <td>1618.200000</td>\n",
       "    </tr>\n",
       "    <tr>\n",
       "      <th>270</th>\n",
       "      <td>100</td>\n",
       "      <td>100</td>\n",
       "      <td>1</td>\n",
       "      <td>100.000000</td>\n",
       "      <td>131</td>\n",
       "      <td>131</td>\n",
       "      <td>1</td>\n",
       "      <td>131.000000</td>\n",
       "      <td>1729.0</td>\n",
       "      <td>1729.0</td>\n",
       "      <td>1</td>\n",
       "      <td>1729.000000</td>\n",
       "    </tr>\n",
       "    <tr>\n",
       "      <th>300</th>\n",
       "      <td>108</td>\n",
       "      <td>108</td>\n",
       "      <td>1</td>\n",
       "      <td>108.000000</td>\n",
       "      <td>143</td>\n",
       "      <td>143</td>\n",
       "      <td>1</td>\n",
       "      <td>143.000000</td>\n",
       "      <td>1500.2</td>\n",
       "      <td>1500.2</td>\n",
       "      <td>1</td>\n",
       "      <td>1500.200000</td>\n",
       "    </tr>\n",
       "  </tbody>\n",
       "</table>\n",
       "</div>"
      ],
      "text/plain": [
       "         Pulse                        Maxpulse                         \\\n",
       "           min  max count        mean      min  max count        mean   \n",
       "Duration                                                                \n",
       "15          80  124     2  102.000000      100  139     2  119.500000   \n",
       "20          83  153     9  125.000000      107  172     9  146.000000   \n",
       "25         152  152     1  152.000000      168  168     1  168.000000   \n",
       "30          80  159    16  109.812500      107  182    16  137.000000   \n",
       "45          90  149    35  107.485714      103  175    35  133.228571   \n",
       "60          92  136    79  106.126582      101  170    79  132.860759   \n",
       "75         120  125     2  122.500000      150  150     2  150.000000   \n",
       "80         123  123     1  123.000000      146  146     1  146.000000   \n",
       "90          90  100     8   93.750000      100  127     8  116.375000   \n",
       "120        100  100     3  100.000000      130  157     3  139.000000   \n",
       "150         97  107     4  101.500000      127  135     4  130.250000   \n",
       "160        109  110     2  109.500000      135  137     2  136.000000   \n",
       "180         90  101     3   93.666667      120  130     3  125.666667   \n",
       "210        108  137     2  122.500000      160  184     2  172.000000   \n",
       "270        100  100     1  100.000000      131  131     1  131.000000   \n",
       "300        108  108     1  108.000000      143  143     1  143.000000   \n",
       "\n",
       "         Calories                             \n",
       "              min     max count         mean  \n",
       "Duration                                      \n",
       "15           50.5   124.2     2    87.350000  \n",
       "20           50.3   229.4     9   151.600000  \n",
       "25          244.2   244.2     1   244.200000  \n",
       "30           86.2   319.2    16   192.125000  \n",
       "45          100.7   406.0    35   279.096585  \n",
       "60          215.2   486.0    79   341.046465  \n",
       "75          320.4   330.4     2   325.400000  \n",
       "80          643.1   643.1     1   643.100000  \n",
       "90          466.4   700.0     8   541.800000  \n",
       "120         500.0  1000.1     3   666.833333  \n",
       "150         816.0  1115.0     4   939.400000  \n",
       "160         853.0  1034.4     2   943.700000  \n",
       "180         600.1   800.4     3   733.600000  \n",
       "210        1376.0  1860.4     2  1618.200000  \n",
       "270        1729.0  1729.0     1  1729.000000  \n",
       "300        1500.2  1500.2     1  1500.200000  "
      ]
     },
     "execution_count": 5,
     "metadata": {},
     "output_type": "execute_result"
    }
   ],
   "source": [
    "#e) Select at least two columns and aggregate the data using: min, max, count, mean\n",
    "df.groupby('Duration').aggregate(['min', max, 'count',np.mean,]) "
   ]
  },
  {
   "cell_type": "code",
   "execution_count": 6,
   "id": "52eb2335",
   "metadata": {},
   "outputs": [
    {
     "name": "stdout",
     "output_type": "stream",
     "text": [
      "     Duration  Pulse  Maxpulse  Calories\n",
      "51         80    123       146     643.1\n",
      "62        160    109       135     853.0\n",
      "65        180     90       130     800.4\n",
      "66        150    105       135     873.4\n",
      "67        150    107       130     816.0\n",
      "72         90    100       127     700.0\n",
      "73        150     97       127     953.2\n",
      "75         90     98       125     563.2\n",
      "78        120    100       130     500.4\n",
      "90        180    101       127     600.1\n",
      "99         90     93       124     604.1\n",
      "103        90     90       100     500.4\n",
      "106       180     90       120     800.3\n",
      "108        90     90       120     500.3\n"
     ]
    }
   ],
   "source": [
    "#f) Filter the dataframe to select the rows with calories values between 500 and 1000.\n",
    "df = df[(df['Calories'] > 500) & (df['Calories'] < 1000)]\n",
    "print(df)"
   ]
  },
  {
   "cell_type": "code",
   "execution_count": 7,
   "id": "09705ffd",
   "metadata": {},
   "outputs": [
    {
     "name": "stdout",
     "output_type": "stream",
     "text": [
      "     Duration  Pulse  Maxpulse  Calories\n",
      "65        180     90       130     800.4\n",
      "73        150     97       127     953.2\n",
      "75         90     98       125     563.2\n",
      "99         90     93       124     604.1\n",
      "103        90     90       100     500.4\n",
      "106       180     90       120     800.3\n",
      "108        90     90       120     500.3\n"
     ]
    }
   ],
   "source": [
    "#g) Filter the dataframe to select the rows with calories values > 500 and pulse < 100\n",
    "df = df[(df['Calories'] > 500) & (df['Pulse'] < 100)]\n",
    "print(df)"
   ]
  },
  {
   "cell_type": "code",
   "execution_count": 8,
   "id": "a2b54ffe",
   "metadata": {},
   "outputs": [
    {
     "name": "stdout",
     "output_type": "stream",
     "text": [
      "     Duration  Pulse  Calories\n",
      "65        180     90     800.4\n",
      "73        150     97     953.2\n",
      "75         90     98     563.2\n",
      "99         90     93     604.1\n",
      "103        90     90     500.4\n",
      "106       180     90     800.3\n",
      "108        90     90     500.3\n"
     ]
    }
   ],
   "source": [
    "#h) Create a new “df_modified” dataframe that contains all the columns from df except for “Maxpulse”\n",
    "df_modified = df.drop(\"Maxpulse\", axis=1)\n",
    "print(df_modified)"
   ]
  },
  {
   "cell_type": "code",
   "execution_count": 9,
   "id": "28c524de",
   "metadata": {},
   "outputs": [
    {
     "name": "stdout",
     "output_type": "stream",
     "text": [
      "     Duration  Pulse  Calories\n",
      "65        180     90     800.4\n",
      "73        150     97     953.2\n",
      "75         90     98     563.2\n",
      "99         90     93     604.1\n",
      "103        90     90     500.4\n",
      "106       180     90     800.3\n",
      "108        90     90     500.3\n"
     ]
    }
   ],
   "source": [
    "#i) Delete the “Maxpulse” column from the main df dataframe\n",
    "if \"Maxpulse\" in df.columns:\n",
    "    df.drop(\"Maxpulse\", axis=1, inplace=True) #drop method removes the specified column or rows \n",
    "print(df)"
   ]
  },
  {
   "cell_type": "code",
   "execution_count": 10,
   "id": "f7d2dc1a",
   "metadata": {},
   "outputs": [
    {
     "name": "stdout",
     "output_type": "stream",
     "text": [
      "     Duration  Pulse  Calories\n",
      "65        180     90       800\n",
      "73        150     97       953\n",
      "75         90     98       563\n",
      "99         90     93       604\n",
      "103        90     90       500\n",
      "106       180     90       800\n",
      "108        90     90       500\n"
     ]
    }
   ],
   "source": [
    "#j) Converting the datatype of Calories column to int datatype.\n",
    "df[\"Calories\"] = df[\"Calories\"].astype(int)\n",
    "print(df)\n"
   ]
  },
  {
   "cell_type": "code",
   "execution_count": 17,
   "id": "d4001c15",
   "metadata": {},
   "outputs": [
    {
     "data": {
      "text/plain": [
       "<AxesSubplot:xlabel='Duration', ylabel='Calories'>"
      ]
     },
     "execution_count": 17,
     "metadata": {},
     "output_type": "execute_result"
    },
    {
     "data": {
      "image/png": "[encoded data removed]",
      "text/plain": [
       "<Figure size 640x480 with 1 Axes>"
      ]
     },
     "metadata": {},
     "output_type": "display_data"
    }
   ],
   "source": [
    "#k) Using pandas create a scatter plot for the two columns (Duration and Calories).\n",
    "#plot method to create a scatter plot\n",
    "data = pd.read_csv(\"data.csv\")\n",
    "data.plot(x=\"Duration\", y=\"Calories\", kind=\"scatter\", c= \"darkblue\")\n"
   ]
  },
  {
   "cell_type": "code",
   "execution_count": 20,
   "id": "7d6860d9",
   "metadata": {},
   "outputs": [
    {
     "name": "stdout",
     "output_type": "stream",
     "text": [
      "<class 'pandas.core.frame.DataFrame'>\n",
      "RangeIndex: 30 entries, 0 to 29\n",
      "Data columns (total 2 columns):\n",
      " #   Column           Non-Null Count  Dtype  \n",
      "---  ------           --------------  -----  \n",
      " 0   YearsExperience  30 non-null     float64\n",
      " 1   Salary           30 non-null     float64\n",
      "dtypes: float64(2)\n",
      "memory usage: 608.0 bytes\n"
     ]
    },
    {
     "data": {
      "text/html": [
       "<div>\n",
       "<style scoped>\n",
       "    .dataframe tbody tr th:only-of-type {\n",
       "        vertical-align: middle;\n",
       "    }\n",
       "\n",
       "    .dataframe tbody tr th {\n",
       "        vertical-align: top;\n",
       "    }\n",
       "\n",
       "    .dataframe thead th {\n",
       "        text-align: right;\n",
       "    }\n",
       "</style>\n",
       "<table border=\"1\" class=\"dataframe\">\n",
       "  <thead>\n",
       "    <tr style=\"text-align: right;\">\n",
       "      <th></th>\n",
       "      <th>YearsExperience</th>\n",
       "      <th>Salary</th>\n",
       "    </tr>\n",
       "  </thead>\n",
       "  <tbody>\n",
       "    <tr>\n",
       "      <th>0</th>\n",
       "      <td>1.1</td>\n",
       "      <td>39343.0</td>\n",
       "    </tr>\n",
       "    <tr>\n",
       "      <th>1</th>\n",
       "      <td>1.3</td>\n",
       "      <td>46205.0</td>\n",
       "    </tr>\n",
       "    <tr>\n",
       "      <th>2</th>\n",
       "      <td>1.5</td>\n",
       "      <td>37731.0</td>\n",
       "    </tr>\n",
       "    <tr>\n",
       "      <th>3</th>\n",
       "      <td>2.0</td>\n",
       "      <td>43525.0</td>\n",
       "    </tr>\n",
       "    <tr>\n",
       "      <th>4</th>\n",
       "      <td>2.2</td>\n",
       "      <td>39891.0</td>\n",
       "    </tr>\n",
       "  </tbody>\n",
       "</table>\n",
       "</div>"
      ],
      "text/plain": [
       "   YearsExperience   Salary\n",
       "0              1.1  39343.0\n",
       "1              1.3  46205.0\n",
       "2              1.5  37731.0\n",
       "3              2.0  43525.0\n",
       "4              2.2  39891.0"
      ]
     },
     "execution_count": 20,
     "metadata": {},
     "output_type": "execute_result"
    }
   ],
   "source": [
    "#2. Linear Regression \n",
    "\n",
    "# Importing the libraries\n",
    "\n",
    "import numpy as np\n",
    "import matplotlib.pyplot as plt\n",
    "import pandas as pd\n",
    "\n",
    "# a) Importing the datasets\n",
    " \n",
    "saldata = pd.read_csv('Salary_Data.csv')\n",
    "\n",
    "X = saldata.iloc[:, :-1].values #excluding last column \n",
    "Y = saldata.iloc[:, 1].values #just salary column\n",
    "\n",
    "saldata.info()\n",
    "saldata.head()"
   ]
  },
  {
   "cell_type": "code",
   "execution_count": 19,
   "id": "25df0bad",
   "metadata": {},
   "outputs": [
    {
     "name": "stdout",
     "output_type": "stream",
     "text": [
      "Below is the Split Data:\n",
      "Train features:\n",
      "     0\n",
      "0  2.9\n",
      "1  5.1\n",
      "2  3.2\n",
      "3  4.5\n",
      "4  8.2\n",
      "Train targets:\n",
      "          0\n",
      "0   56642.0\n",
      "1   66029.0\n",
      "2   64445.0\n",
      "3   61111.0\n",
      "4  113812.0\n",
      "Test features:\n",
      "      0\n",
      "0   1.5\n",
      "1  10.3\n",
      "2   4.1\n",
      "3   3.9\n",
      "4   9.5\n",
      "Test targets:\n",
      "          0\n",
      "0   37731.0\n",
      "1  122391.0\n",
      "2   57081.0\n",
      "3   63218.0\n",
      "4  116969.0\n"
     ]
    }
   ],
   "source": [
    "#b) Splitting the dataset into the Training set and Test set\n",
    "\n",
    "from sklearn.model_selection import train_test_split\n",
    "X_train, X_test, Y_train, Y_test = train_test_split(X, Y, test_size=1/3, random_state=0)\n",
    "\n",
    "## Print the split data\n",
    "print(\"Below is the Split Data:\") \n",
    "print(\"Train features:\")\n",
    "print(pd.DataFrame(X_train).head())\n",
    "\n",
    "print(\"Train targets:\")\n",
    "print(pd.DataFrame(Y_train).head())\n",
    "\n",
    "print(\"Test features:\")\n",
    "print(pd.DataFrame(X_test).head())\n",
    "\n",
    "print(\"Test targets:\")\n",
    "print(pd.DataFrame(Y_test).head())"
   ]
  },
  {
   "cell_type": "code",
   "execution_count": 23,
   "id": "4c973837",
   "metadata": {},
   "outputs": [
    {
     "name": "stdout",
     "output_type": "stream",
     "text": [
      "Predicted values: [ 40835.10590871 123079.39940819  65134.55626083  63265.36777221\n",
      " 115602.64545369 108125.8914992  116537.23969801  64199.96201652\n",
      "  76349.68719258 100649.1375447 ]\n"
     ]
    }
   ],
   "source": [
    "# c) Train and predict the model\n",
    "from sklearn.linear_model import LinearRegression\n",
    "model = LinearRegression()\n",
    "model.fit(X_train, Y_train) #predict method takes the test set features returns the predicted target variables\n",
    "Y_pred = model.predict(X_test)\n",
    "print(\"Predicted values:\", Y_pred)"
   ]
  },
  {
   "cell_type": "code",
   "execution_count": 24,
   "id": "a67922c6",
   "metadata": {},
   "outputs": [
    {
     "name": "stdout",
     "output_type": "stream",
     "text": [
      "Mean Squared Error: 21026037.329511303\n"
     ]
    }
   ],
   "source": [
    "#d) Calculate the mean_squared error\n",
    "from sklearn.metrics import mean_squared_error\n",
    "mse = mean_squared_error(Y_test, Y_pred)\n",
    "print(\"Mean Squared Error:\", mse)"
   ]
  },
  {
   "cell_type": "code",
   "execution_count": 28,
   "id": "71a901db",
   "metadata": {},
   "outputs": [
    {
     "data": {
      "image/png": "[encoded data removed]",
      "text/plain": [
       "<Figure size 640x480 with 1 Axes>"
      ]
     },
     "metadata": {},
     "output_type": "display_data"
    },
    {
     "data": {
      "image/png": "[encoded data removed]",
      "text/plain": [
       "<Figure size 640x480 with 1 Axes>"
      ]
     },
     "metadata": {},
     "output_type": "display_data"
    },
    {
     "data": {
      "image/png": "[encoded data removed]",
      "text/plain": [
       "<Figure size 640x480 with 1 Axes>"
      ]
     },
     "metadata": {},
     "output_type": "display_data"
    }
   ],
   "source": [
    "#e) Visualize both train and test data using scatter plot.\n",
    "#The scatter function is used to plot the training data, and the plot function is used to plot the predicted values\n",
    "import matplotlib.pyplot as plt\n",
    "\n",
    "plt.scatter(X_train, Y_train, color='blue', label='Training data')\n",
    "plt.scatter(X_test, Y_test, color='red', label='Test data')\n",
    "plt.legend()\n",
    "plt.show()\n",
    "\n",
    "# Training Data \n",
    "plt.scatter(X_train, Y_train)\n",
    "plt.plot(X_train, model.predict(X_train), color='red')\n",
    "plt.title('Training Set')\n",
    "plt.show()\n",
    "\n",
    "# Testing Data \n",
    "plt.scatter(X_test, Y_test)\n",
    "plt.plot(X_test, model.predict(X_test), color='red')\n",
    "plt.title('Testing Set')\n",
    "plt.show()"
   ]
  },
  {
   "cell_type": "code",
   "execution_count": null,
   "id": "ab07bb2e",
   "metadata": {},
   "outputs": [],
   "source": []
  }
 ],
 "metadata": {
  "kernelspec": {
   "display_name": "Python 3 (ipykernel)",
   "language": "python",
   "name": "python3"
  },
  "language_info": {
   "codemirror_mode": {
    "name": "ipython",
    "version": 3
   },
   "file_extension": ".py",
   "mimetype": "text/x-python",
   "name": "python",
   "nbconvert_exporter": "python",
   "pygments_lexer": "ipython3",
   "version": "3.9.13"
  }
 },
 "nbformat": 4,
 "nbformat_minor": 5
}
